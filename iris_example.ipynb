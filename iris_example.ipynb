{
 "cells": [
  {
   "cell_type": "markdown",
   "metadata": {},
   "source": [
    "## Load necessary modules"
   ]
  },
  {
   "cell_type": "code",
   "execution_count": 2,
   "metadata": {},
   "outputs": [
    {
     "name": "stdout",
     "output_type": "stream",
     "text": [
      "Collecting sklearn_pandas\n",
      "  Downloading https://files.pythonhosted.org/packages/1f/48/4e1461d828baf41d609efaa720d20090ac6ec346b5daad3c88e243e2207e/sklearn_pandas-1.8.0-py2.py3-none-any.whl\n",
      "Requirement already satisfied: numpy>=1.6.1 in /anaconda3/envs/learn-env/lib/python3.6/site-packages (from sklearn_pandas) (1.16.4)\n",
      "Requirement already satisfied: scipy>=0.14 in /anaconda3/envs/learn-env/lib/python3.6/site-packages (from sklearn_pandas) (1.1.0)\n",
      "Requirement already satisfied: scikit-learn>=0.15.0 in /anaconda3/envs/learn-env/lib/python3.6/site-packages (from sklearn_pandas) (0.21.3)\n",
      "Requirement already satisfied: pandas>=0.11.0 in /anaconda3/envs/learn-env/lib/python3.6/site-packages (from sklearn_pandas) (0.25.1)\n",
      "Requirement already satisfied: joblib>=0.11 in /anaconda3/envs/learn-env/lib/python3.6/site-packages (from scikit-learn>=0.15.0->sklearn_pandas) (0.13.2)\n",
      "Requirement already satisfied: python-dateutil>=2.6.1 in /anaconda3/envs/learn-env/lib/python3.6/site-packages (from pandas>=0.11.0->sklearn_pandas) (2.8.0)\n",
      "Requirement already satisfied: pytz>=2017.2 in /anaconda3/envs/learn-env/lib/python3.6/site-packages (from pandas>=0.11.0->sklearn_pandas) (2018.5)\n",
      "Requirement already satisfied: six>=1.5 in /anaconda3/envs/learn-env/lib/python3.6/site-packages (from python-dateutil>=2.6.1->pandas>=0.11.0->sklearn_pandas) (1.11.0)\n",
      "Installing collected packages: sklearn-pandas\n",
      "Successfully installed sklearn-pandas-1.8.0\n"
     ]
    }
   ],
   "source": [
    "!pip install sklearn_pandas"
   ]
  },
  {
   "cell_type": "code",
   "execution_count": 4,
   "metadata": {},
   "outputs": [],
   "source": [
    "from matplotlib import pyplot as plt\n",
    "import numpy as np\n",
    "import pandas as pd\n",
    "import random\n",
    "import itertools\n",
    "from sklearn.datasets import load_iris\n",
    "from sklearn.model_selection import train_test_split\n",
    "from sklearn.preprocessing import OneHotEncoder\n",
    "from sklearn_pandas import (\n",
    "    DataFrameMapper, \n",
    "    FunctionTransformer\n",
    ")\n",
    "from sklearn.pipeline import Pipeline\n",
    "from sklearn.impute import SimpleImputer\n",
    "from sklearn.tree import DecisionTreeClassifier\n",
    "from sklearn.metrics import confusion_matrix, roc_curve, roc_auc_score, accuracy_score, precision_score, recall_score, f1_score"
   ]
  },
  {
   "cell_type": "markdown",
   "metadata": {},
   "source": [
    "## Load necessary data"
   ]
  },
  {
   "cell_type": "code",
   "execution_count": 5,
   "metadata": {},
   "outputs": [
    {
     "data": {
      "text/html": [
       "<div>\n",
       "<style scoped>\n",
       "    .dataframe tbody tr th:only-of-type {\n",
       "        vertical-align: middle;\n",
       "    }\n",
       "\n",
       "    .dataframe tbody tr th {\n",
       "        vertical-align: top;\n",
       "    }\n",
       "\n",
       "    .dataframe thead th {\n",
       "        text-align: right;\n",
       "    }\n",
       "</style>\n",
       "<table border=\"1\" class=\"dataframe\">\n",
       "  <thead>\n",
       "    <tr style=\"text-align: right;\">\n",
       "      <th></th>\n",
       "      <th>sepal_length</th>\n",
       "      <th>sepal_width</th>\n",
       "      <th>petal_length</th>\n",
       "      <th>petal_width</th>\n",
       "      <th>species</th>\n",
       "    </tr>\n",
       "  </thead>\n",
       "  <tbody>\n",
       "    <tr>\n",
       "      <td>0</td>\n",
       "      <td>5.1</td>\n",
       "      <td>3.5</td>\n",
       "      <td>1.4</td>\n",
       "      <td>0.2</td>\n",
       "      <td>setosa</td>\n",
       "    </tr>\n",
       "    <tr>\n",
       "      <td>1</td>\n",
       "      <td>4.9</td>\n",
       "      <td>3.0</td>\n",
       "      <td>1.4</td>\n",
       "      <td>0.2</td>\n",
       "      <td>setosa</td>\n",
       "    </tr>\n",
       "    <tr>\n",
       "      <td>2</td>\n",
       "      <td>4.7</td>\n",
       "      <td>3.2</td>\n",
       "      <td>1.3</td>\n",
       "      <td>0.2</td>\n",
       "      <td>setosa</td>\n",
       "    </tr>\n",
       "    <tr>\n",
       "      <td>3</td>\n",
       "      <td>4.6</td>\n",
       "      <td>3.1</td>\n",
       "      <td>1.5</td>\n",
       "      <td>0.2</td>\n",
       "      <td>setosa</td>\n",
       "    </tr>\n",
       "    <tr>\n",
       "      <td>4</td>\n",
       "      <td>5.0</td>\n",
       "      <td>3.6</td>\n",
       "      <td>1.4</td>\n",
       "      <td>0.2</td>\n",
       "      <td>setosa</td>\n",
       "    </tr>\n",
       "  </tbody>\n",
       "</table>\n",
       "</div>"
      ],
      "text/plain": [
       "   sepal_length  sepal_width  petal_length  petal_width species\n",
       "0           5.1          3.5           1.4          0.2  setosa\n",
       "1           4.9          3.0           1.4          0.2  setosa\n",
       "2           4.7          3.2           1.3          0.2  setosa\n",
       "3           4.6          3.1           1.5          0.2  setosa\n",
       "4           5.0          3.6           1.4          0.2  setosa"
      ]
     },
     "execution_count": 5,
     "metadata": {},
     "output_type": "execute_result"
    }
   ],
   "source": [
    "iris = load_iris()\n",
    "X = iris[\"data\"]\n",
    "y = iris[\"target\"]\n",
    "feature_names = [col.replace(\" \", \"_\").replace(\"_(cm)\", \"\") \n",
    "                 for col in (iris[\"feature_names\"] + [\"species\"])]\n",
    "class_names = {0.0: \"setosa\", 1.0: \"versicolor\", 2.0: \"virginica\"}\n",
    "\n",
    "# convert to data frame purely for showing the data\n",
    "iris_df = pd.DataFrame(np.column_stack((X, y.reshape(-1, 1)))\n",
    "                       , columns=feature_names)\n",
    "\n",
    "# convert species from numeric to categorical\n",
    "iris_df[\"species\"] = iris_df[\"species\"].map(class_names)\n",
    "\n",
    "iris_df.head()"
   ]
  },
  {
   "cell_type": "markdown",
   "metadata": {},
   "source": [
    "### For educational purposes only, let's replace some values with `NaN`"
   ]
  },
  {
   "cell_type": "code",
   "execution_count": 6,
   "metadata": {},
   "outputs": [
    {
     "data": {
      "text/html": [
       "<div>\n",
       "<style scoped>\n",
       "    .dataframe tbody tr th:only-of-type {\n",
       "        vertical-align: middle;\n",
       "    }\n",
       "\n",
       "    .dataframe tbody tr th {\n",
       "        vertical-align: top;\n",
       "    }\n",
       "\n",
       "    .dataframe thead th {\n",
       "        text-align: right;\n",
       "    }\n",
       "</style>\n",
       "<table border=\"1\" class=\"dataframe\">\n",
       "  <thead>\n",
       "    <tr style=\"text-align: right;\">\n",
       "      <th></th>\n",
       "      <th>sepal_length</th>\n",
       "      <th>sepal_width</th>\n",
       "      <th>petal_length</th>\n",
       "      <th>petal_width</th>\n",
       "      <th>species</th>\n",
       "    </tr>\n",
       "  </thead>\n",
       "  <tbody>\n",
       "    <tr>\n",
       "      <td>0</td>\n",
       "      <td>5.1</td>\n",
       "      <td>NaN</td>\n",
       "      <td>1.4</td>\n",
       "      <td>0.2</td>\n",
       "      <td>setosa</td>\n",
       "    </tr>\n",
       "    <tr>\n",
       "      <td>1</td>\n",
       "      <td>4.9</td>\n",
       "      <td>3.0</td>\n",
       "      <td>1.4</td>\n",
       "      <td>0.2</td>\n",
       "      <td>setosa</td>\n",
       "    </tr>\n",
       "    <tr>\n",
       "      <td>2</td>\n",
       "      <td>4.7</td>\n",
       "      <td>3.2</td>\n",
       "      <td>1.3</td>\n",
       "      <td>0.2</td>\n",
       "      <td>setosa</td>\n",
       "    </tr>\n",
       "    <tr>\n",
       "      <td>3</td>\n",
       "      <td>4.6</td>\n",
       "      <td>3.1</td>\n",
       "      <td>1.5</td>\n",
       "      <td>0.2</td>\n",
       "      <td>setosa</td>\n",
       "    </tr>\n",
       "    <tr>\n",
       "      <td>4</td>\n",
       "      <td>5.0</td>\n",
       "      <td>3.6</td>\n",
       "      <td>1.4</td>\n",
       "      <td>0.2</td>\n",
       "      <td>setosa</td>\n",
       "    </tr>\n",
       "    <tr>\n",
       "      <td>5</td>\n",
       "      <td>5.4</td>\n",
       "      <td>3.9</td>\n",
       "      <td>1.7</td>\n",
       "      <td>0.4</td>\n",
       "      <td>setosa</td>\n",
       "    </tr>\n",
       "    <tr>\n",
       "      <td>6</td>\n",
       "      <td>4.6</td>\n",
       "      <td>3.4</td>\n",
       "      <td>1.4</td>\n",
       "      <td>0.3</td>\n",
       "      <td>setosa</td>\n",
       "    </tr>\n",
       "    <tr>\n",
       "      <td>7</td>\n",
       "      <td>5.0</td>\n",
       "      <td>3.4</td>\n",
       "      <td>1.5</td>\n",
       "      <td>0.2</td>\n",
       "      <td>setosa</td>\n",
       "    </tr>\n",
       "    <tr>\n",
       "      <td>8</td>\n",
       "      <td>NaN</td>\n",
       "      <td>NaN</td>\n",
       "      <td>1.4</td>\n",
       "      <td>0.2</td>\n",
       "      <td>setosa</td>\n",
       "    </tr>\n",
       "    <tr>\n",
       "      <td>9</td>\n",
       "      <td>4.9</td>\n",
       "      <td>3.1</td>\n",
       "      <td>1.5</td>\n",
       "      <td>0.1</td>\n",
       "      <td>setosa</td>\n",
       "    </tr>\n",
       "  </tbody>\n",
       "</table>\n",
       "</div>"
      ],
      "text/plain": [
       "   sepal_length  sepal_width  petal_length  petal_width species\n",
       "0           5.1          NaN           1.4          0.2  setosa\n",
       "1           4.9          3.0           1.4          0.2  setosa\n",
       "2           4.7          3.2           1.3          0.2  setosa\n",
       "3           4.6          3.1           1.5          0.2  setosa\n",
       "4           5.0          3.6           1.4          0.2  setosa\n",
       "5           5.4          3.9           1.7          0.4  setosa\n",
       "6           4.6          3.4           1.4          0.3  setosa\n",
       "7           5.0          3.4           1.5          0.2  setosa\n",
       "8           NaN          NaN           1.4          0.2  setosa\n",
       "9           4.9          3.1           1.5          0.1  setosa"
      ]
     },
     "execution_count": 6,
     "metadata": {},
     "output_type": "execute_result"
    }
   ],
   "source": [
    "# initialize random number generator\n",
    "random.seed(2019)\n",
    "\n",
    "# generate list of random integers \n",
    "random_ints = [random.randrange(0, len(iris_df)) for _ in range(20)]\n",
    "\n",
    "# for these random index values, replace their real values with NaN\n",
    "iris_df.loc[random_ints, \"sepal_length\"] = np.nan\n",
    "iris_df.loc[random_ints, \"sepal_width\"] = np.nan\n",
    "\n",
    "# manually force the first \"sepal_width\" value to also be NaN\n",
    "iris_df.loc[0, \"sepal_width\"] = np.nan\n",
    "\n",
    "iris_df.head(10)"
   ]
  },
  {
   "cell_type": "markdown",
   "metadata": {},
   "source": [
    "## Create function to identify records that have `NaN` values\n",
    "\n",
    "This will help us pick up on whether or not having a `NaN` value is helpful information in our model"
   ]
  },
  {
   "cell_type": "code",
   "execution_count": 7,
   "metadata": {},
   "outputs": [],
   "source": [
    "def is_missing(x):\n",
    "    \"\"\"IDs records that contain missing (NaN) values\"\"\"\n",
    "    if pd.isna(x):\n",
    "        return 1\n",
    "    else:\n",
    "        return 0"
   ]
  },
  {
   "cell_type": "markdown",
   "metadata": {},
   "source": [
    "## Do not create an object that imputes median values\n",
    "\n",
    "Unfortunately, `sklearn_pandas` is still under development. The usage of the following:\n",
    "\n",
    "```python\n",
    "impute_median = SimpleImputer(missing_values=np.nan, strategy=\"median\")\n",
    "```\n",
    "\n",
    "inside `DataFrameMapper` will result in all columns that use the `impute_median` transformer to have the same value.\n",
    "\n",
    "Instead, do a gut check by manually printing out the median values."
   ]
  },
  {
   "cell_type": "code",
   "execution_count": 8,
   "metadata": {},
   "outputs": [
    {
     "name": "stdout",
     "output_type": "stream",
     "text": [
      "Median value for sepal length: 5.75\n",
      "Median value for sepal width: 3.0\n"
     ]
    }
   ],
   "source": [
    "print(f\"Median value for sepal length: {iris_df['sepal_length'].median()}\")\n",
    "print(f\"Median value for sepal width: {iris_df['sepal_width'].median()}\")"
   ]
  },
  {
   "cell_type": "markdown",
   "metadata": {},
   "source": [
    "## Store preprocessing steps in one object\n",
    "\n",
    "![kid transformer](visuals/transformer.gif)\n",
    "\n",
    "We'll store these steps in a `DataFrameMapper` object. A `DataFrameMapper` maps `pandas` data frame column subsets to their own transformations. This is abstraction is useful since we'll always be applying the same preprocessing steps to both our training and testing sets.\n",
    "\n",
    "The key here is we need to specify a specific column, pass it's \"transformer\" (i.e. `SimpleImputer`, `OneHotEncoder`, `StandardScaler`), and determinie if the transformation belongs in it's own new column or if it's more appropriate for the transformed column to overwrite the input column.\n",
    "\n",
    "Here, we'll create `mapper` object to do the following:\n",
    "\n",
    "* flag which records contain `NaN` values in the `sepal_length` feature;\n",
    "* impute the median value for `NaN` values in the `sepal_length` feature;\n",
    "* flag which records contain `NaN` values in the `sepal_width` feature;\n",
    "* impute the median value for `NaN` values in the `sepal_width` feature; and\n",
    "* return all other columns - `petal_length` & `petal_width` - as is.\n"
   ]
  },
  {
   "cell_type": "code",
   "execution_count": 9,
   "metadata": {},
   "outputs": [],
   "source": [
    "mapper = DataFrameMapper(features=[\n",
    "    ([\"sepal_length\"], FunctionTransformer(is_missing), {\"alias\": \"sepal_length_missing\"}),\n",
    "    ([\"sepal_length\"], SimpleImputer(missing_values=np.nan, strategy=\"median\")),\n",
    "    ([\"sepal_width\"], FunctionTransformer(is_missing), {\"alias\": \"sepal_width_missing\"}),\n",
    "    ([\"sepal_width\"], SimpleImputer(missing_values=np.nan, strategy=\"median\")),\n",
    "],\n",
    "                         default=None,\n",
    "                         df_out=True)"
   ]
  },
  {
   "cell_type": "code",
   "execution_count": 10,
   "metadata": {},
   "outputs": [
    {
     "data": {
      "text/html": [
       "<div>\n",
       "<style scoped>\n",
       "    .dataframe tbody tr th:only-of-type {\n",
       "        vertical-align: middle;\n",
       "    }\n",
       "\n",
       "    .dataframe tbody tr th {\n",
       "        vertical-align: top;\n",
       "    }\n",
       "\n",
       "    .dataframe thead th {\n",
       "        text-align: right;\n",
       "    }\n",
       "</style>\n",
       "<table border=\"1\" class=\"dataframe\">\n",
       "  <thead>\n",
       "    <tr style=\"text-align: right;\">\n",
       "      <th></th>\n",
       "      <th>sepal_length_missing</th>\n",
       "      <th>sepal_length</th>\n",
       "      <th>sepal_width_missing</th>\n",
       "      <th>sepal_width</th>\n",
       "      <th>petal_length</th>\n",
       "      <th>petal_width</th>\n",
       "      <th>species</th>\n",
       "    </tr>\n",
       "  </thead>\n",
       "  <tbody>\n",
       "    <tr>\n",
       "      <td>0</td>\n",
       "      <td>0</td>\n",
       "      <td>5.10</td>\n",
       "      <td>1</td>\n",
       "      <td>3.0</td>\n",
       "      <td>1.4</td>\n",
       "      <td>0.2</td>\n",
       "      <td>setosa</td>\n",
       "    </tr>\n",
       "    <tr>\n",
       "      <td>1</td>\n",
       "      <td>0</td>\n",
       "      <td>4.90</td>\n",
       "      <td>0</td>\n",
       "      <td>3.0</td>\n",
       "      <td>1.4</td>\n",
       "      <td>0.2</td>\n",
       "      <td>setosa</td>\n",
       "    </tr>\n",
       "    <tr>\n",
       "      <td>2</td>\n",
       "      <td>0</td>\n",
       "      <td>4.70</td>\n",
       "      <td>0</td>\n",
       "      <td>3.2</td>\n",
       "      <td>1.3</td>\n",
       "      <td>0.2</td>\n",
       "      <td>setosa</td>\n",
       "    </tr>\n",
       "    <tr>\n",
       "      <td>3</td>\n",
       "      <td>0</td>\n",
       "      <td>4.60</td>\n",
       "      <td>0</td>\n",
       "      <td>3.1</td>\n",
       "      <td>1.5</td>\n",
       "      <td>0.2</td>\n",
       "      <td>setosa</td>\n",
       "    </tr>\n",
       "    <tr>\n",
       "      <td>4</td>\n",
       "      <td>0</td>\n",
       "      <td>5.00</td>\n",
       "      <td>0</td>\n",
       "      <td>3.6</td>\n",
       "      <td>1.4</td>\n",
       "      <td>0.2</td>\n",
       "      <td>setosa</td>\n",
       "    </tr>\n",
       "    <tr>\n",
       "      <td>5</td>\n",
       "      <td>0</td>\n",
       "      <td>5.40</td>\n",
       "      <td>0</td>\n",
       "      <td>3.9</td>\n",
       "      <td>1.7</td>\n",
       "      <td>0.4</td>\n",
       "      <td>setosa</td>\n",
       "    </tr>\n",
       "    <tr>\n",
       "      <td>6</td>\n",
       "      <td>0</td>\n",
       "      <td>4.60</td>\n",
       "      <td>0</td>\n",
       "      <td>3.4</td>\n",
       "      <td>1.4</td>\n",
       "      <td>0.3</td>\n",
       "      <td>setosa</td>\n",
       "    </tr>\n",
       "    <tr>\n",
       "      <td>7</td>\n",
       "      <td>0</td>\n",
       "      <td>5.00</td>\n",
       "      <td>0</td>\n",
       "      <td>3.4</td>\n",
       "      <td>1.5</td>\n",
       "      <td>0.2</td>\n",
       "      <td>setosa</td>\n",
       "    </tr>\n",
       "    <tr>\n",
       "      <td>8</td>\n",
       "      <td>1</td>\n",
       "      <td>5.75</td>\n",
       "      <td>1</td>\n",
       "      <td>3.0</td>\n",
       "      <td>1.4</td>\n",
       "      <td>0.2</td>\n",
       "      <td>setosa</td>\n",
       "    </tr>\n",
       "    <tr>\n",
       "      <td>9</td>\n",
       "      <td>0</td>\n",
       "      <td>4.90</td>\n",
       "      <td>0</td>\n",
       "      <td>3.1</td>\n",
       "      <td>1.5</td>\n",
       "      <td>0.1</td>\n",
       "      <td>setosa</td>\n",
       "    </tr>\n",
       "  </tbody>\n",
       "</table>\n",
       "</div>"
      ],
      "text/plain": [
       "   sepal_length_missing  sepal_length  sepal_width_missing  sepal_width  \\\n",
       "0                     0          5.10                    1          3.0   \n",
       "1                     0          4.90                    0          3.0   \n",
       "2                     0          4.70                    0          3.2   \n",
       "3                     0          4.60                    0          3.1   \n",
       "4                     0          5.00                    0          3.6   \n",
       "5                     0          5.40                    0          3.9   \n",
       "6                     0          4.60                    0          3.4   \n",
       "7                     0          5.00                    0          3.4   \n",
       "8                     1          5.75                    1          3.0   \n",
       "9                     0          4.90                    0          3.1   \n",
       "\n",
       "  petal_length petal_width species  \n",
       "0          1.4         0.2  setosa  \n",
       "1          1.4         0.2  setosa  \n",
       "2          1.3         0.2  setosa  \n",
       "3          1.5         0.2  setosa  \n",
       "4          1.4         0.2  setosa  \n",
       "5          1.7         0.4  setosa  \n",
       "6          1.4         0.3  setosa  \n",
       "7          1.5         0.2  setosa  \n",
       "8          1.4         0.2  setosa  \n",
       "9          1.5         0.1  setosa  "
      ]
     },
     "execution_count": 10,
     "metadata": {},
     "output_type": "execute_result"
    }
   ],
   "source": [
    "# just like a model object, \n",
    "# we'll fit and transform the DataFrameMapper object onto our data\n",
    "mapper.fit(iris_df).transform(iris_df).head(10)"
   ]
  },
  {
   "cell_type": "markdown",
   "metadata": {},
   "source": [
    "Notice how the 9th record in both columns contains a value of `1`. This algins with the output of `iris_df.head(10)`, with both values in `sepal_length` and `sepal_width` containing `NaN` values.\n",
    "\n",
    "The use of our custom function was honored and bug-free, as only the first record in `sepal_width_missing` has a value of `1` and `sepal_length_missing` has a value of `0`.\n",
    "\n",
    "All records in the `petal_length`, `petal_width` and `species` columns are returned with no transformation."
   ]
  },
  {
   "cell_type": "markdown",
   "metadata": {},
   "source": [
    "## Now let's take this up a level by performing `train_test_split` before any preprocessing and build a `DecisionTreeClassifier` model to classify which species a flower is"
   ]
  },
  {
   "cell_type": "code",
   "execution_count": 11,
   "metadata": {},
   "outputs": [],
   "source": [
    "# split data \n",
    "X_train, X_test, y_train, y_test = train_test_split(iris_df.drop(\"species\", axis=1),\n",
    "                                                    iris_df[\"species\"],\n",
    "                                                    test_size=0.3,\n",
    "                                                    random_state=2019)"
   ]
  },
  {
   "cell_type": "code",
   "execution_count": 12,
   "metadata": {},
   "outputs": [],
   "source": [
    "# build classifier\n",
    "dt_clf = DecisionTreeClassifier(random_state=2019,\n",
    "                                min_samples_leaf=30,\n",
    "                                criterion=\"gini\",\n",
    "                                min_samples_split=2)"
   ]
  },
  {
   "cell_type": "code",
   "execution_count": 15,
   "metadata": {},
   "outputs": [],
   "source": [
    "# build pipeline\n",
    "pipe = Pipeline(steps=[\n",
    "    (\"dataprep\", mapper),\n",
    "    (\"model\", dt_clf)\n",
    "])"
   ]
  },
  {
   "cell_type": "markdown",
   "metadata": {},
   "source": [
    "Fit `X_train` and `y_train` onto the `pipe` object"
   ]
  },
  {
   "cell_type": "code",
   "execution_count": 16,
   "metadata": {},
   "outputs": [
    {
     "data": {
      "text/plain": [
       "Pipeline(memory=None,\n",
       "         steps=[('dataprep',\n",
       "                 DataFrameMapper(default=None, df_out=True,\n",
       "                                 features=[(['sepal_length'],\n",
       "                                            FunctionTransformer(func=None),\n",
       "                                            {'alias': 'sepal_length_missing'}),\n",
       "                                           (['sepal_length'],\n",
       "                                            SimpleImputer(add_indicator=False,\n",
       "                                                          copy=True,\n",
       "                                                          fill_value=None,\n",
       "                                                          missing_values=nan,\n",
       "                                                          strategy='median',\n",
       "                                                          verbose=0)),\n",
       "                                           (['sepal_width'],\n",
       "                                            FunctionTransformer(func=None),\n",
       "                                            {...\n",
       "                                                          strategy='median',\n",
       "                                                          verbose=0))],\n",
       "                                 input_df=False, sparse=False)),\n",
       "                ('model',\n",
       "                 DecisionTreeClassifier(class_weight=None, criterion='gini',\n",
       "                                        max_depth=None, max_features=None,\n",
       "                                        max_leaf_nodes=None,\n",
       "                                        min_impurity_decrease=0.0,\n",
       "                                        min_impurity_split=None,\n",
       "                                        min_samples_leaf=30,\n",
       "                                        min_samples_split=2,\n",
       "                                        min_weight_fraction_leaf=0.0,\n",
       "                                        presort=False, random_state=2019,\n",
       "                                        splitter='best'))],\n",
       "         verbose=False)"
      ]
     },
     "execution_count": 16,
     "metadata": {},
     "output_type": "execute_result"
    }
   ],
   "source": [
    "pipe.fit(X_train, y_train)"
   ]
  },
  {
   "cell_type": "markdown",
   "metadata": {},
   "source": [
    "Use the `pipe` object to make predictions on `X_test`"
   ]
  },
  {
   "cell_type": "code",
   "execution_count": 17,
   "metadata": {},
   "outputs": [],
   "source": [
    "y_pred = pipe.predict(X_test)"
   ]
  },
  {
   "cell_type": "markdown",
   "metadata": {},
   "source": [
    "Examine the first 10 predictions of our multi-class classifier!"
   ]
  },
  {
   "cell_type": "code",
   "execution_count": 18,
   "metadata": {},
   "outputs": [
    {
     "data": {
      "text/plain": [
       "array(['setosa', 'setosa', 'virginica', 'versicolor', 'virginica',\n",
       "       'setosa', 'virginica', 'setosa', 'versicolor', 'virginica'],\n",
       "      dtype=object)"
      ]
     },
     "execution_count": 18,
     "metadata": {},
     "output_type": "execute_result"
    }
   ],
   "source": [
    "y_pred[0:10]"
   ]
  },
  {
   "cell_type": "markdown",
   "metadata": {},
   "source": [
    "Compare with `y_test`"
   ]
  },
  {
   "cell_type": "code",
   "execution_count": 19,
   "metadata": {},
   "outputs": [
    {
     "data": {
      "text/plain": [
       "42         setosa\n",
       "20         setosa\n",
       "124     virginica\n",
       "87     versicolor\n",
       "107     virginica\n",
       "40         setosa\n",
       "111     virginica\n",
       "46         setosa\n",
       "84     versicolor\n",
       "147     virginica\n",
       "Name: species, dtype: object"
      ]
     },
     "execution_count": 19,
     "metadata": {},
     "output_type": "execute_result"
    }
   ],
   "source": [
    "y_test[0:10]"
   ]
  },
  {
   "cell_type": "markdown",
   "metadata": {},
   "source": [
    "## TODO\n",
    "\n",
    "* Make multi class ROC Curve: https://scikit-learn.org/stable/auto_examples/model_selection/plot_roc.html"
   ]
  },
  {
   "cell_type": "markdown",
   "metadata": {},
   "source": [
    "## Let's get a general sense of accuracy\n",
    "\n",
    "* revist the accuracy score\n",
    "* introduce the confusion matrix\n",
    "    + Precision\n",
    "    + Recall\n",
    "    + F1 Score\n",
    "* introduce the ROC curve and AUC"
   ]
  },
  {
   "cell_type": "markdown",
   "metadata": {},
   "source": [
    "## Let's create a confusion matrix to visualize where our model messed up\n",
    "\n",
    "> [A] confusion matrix, also known as an error matrix, is a specific table layout that allows visualization of the performance of an algorithm, typically a supervised learning one. - [Wikipedia](https://en.wikipedia.org/wiki/Confusion_matrix)"
   ]
  },
  {
   "cell_type": "code",
   "execution_count": 20,
   "metadata": {},
   "outputs": [
    {
     "data": {
      "text/plain": [
       "array([[19,  0,  0],\n",
       "       [ 0,  9,  1],\n",
       "       [ 0,  1, 15]])"
      ]
     },
     "execution_count": 20,
     "metadata": {},
     "output_type": "execute_result"
    }
   ],
   "source": [
    "# create confusion matrix\n",
    "# tn, fp, fn, tp\n",
    "cnf_matrix = confusion_matrix(y_test, y_pred)\n",
    "cnf_matrix"
   ]
  },
  {
   "cell_type": "code",
   "execution_count": 21,
   "metadata": {},
   "outputs": [
    {
     "data": {
      "image/png": "[encoded data removed]",
      "text/plain": [
       "<Figure size 900x750 with 2 Axes>"
      ]
     },
     "metadata": {
      "needs_background": "light"
     },
     "output_type": "display_data"
    }
   ],
   "source": [
    "# build confusion matrix plot\n",
    "plt.figure(figsize=(6, 5), dpi=150)\n",
    "plt.imshow(cnf_matrix,  cmap=plt.cm.Blues) #Create the basic matrix.\n",
    "\n",
    "# Add title and Axis Labels\n",
    "plt.title(\"Confusion Matrix\")\n",
    "plt.ylabel(\"True label\")\n",
    "plt.xlabel(\"Predicted Label\")\n",
    "\n",
    "# add axis labels\n",
    "tick_marks = [val for val in class_names.keys()]\n",
    "plt.xticks(tick_marks, class_names.values())\n",
    "plt.yticks(tick_marks, class_names.values())\n",
    "\n",
    "# Add Labels to Each Cell\n",
    "thresh = cnf_matrix.max() / 2. #Used for text coloring below\n",
    "#Here we iterate through the confusion matrix and append labels to our visualization.\n",
    "for i in range(cnf_matrix.shape[0]):\n",
    "    for j in range(cnf_matrix.shape[1]):\n",
    "        plt.text(i, j, cnf_matrix[i, j],\n",
    "                 horizontalalignment=\"center\",\n",
    "                 color=\"white\" if cnf_matrix[i, j] > thresh else \"black\")\n",
    "\n",
    "# Add a Side Bar Legend Showing Colors\n",
    "plt.colorbar()\n",
    "\n",
    "# Add padding\n",
    "plt.tight_layout()\n",
    "\n",
    "# save plot\n",
    "plt.savefig(\"visuals/multi_class_conf_matrix.png\",\n",
    "            dpi=150,\n",
    "            bbox_inches=\"tight\")\n",
    "\n",
    "# display plot\n",
    "plt.show()"
   ]
  },
  {
   "cell_type": "markdown",
   "metadata": {},
   "source": [
    "## Using the confusion matrix to evaluate our classifier\n",
    "\n",
    "### Accuracy\n",
    "\n",
    "Accuracy is the percentage of times that your model predicted correctly.\n",
    "\n",
    "Accuracy = correct predictions / total predictions\n",
    "\n",
    "\n",
    "$$Accuracy = \\frac{TP + TN}{TP + TN + FP + FN}$$"
   ]
  },
  {
   "cell_type": "code",
   "execution_count": 22,
   "metadata": {},
   "outputs": [
    {
     "name": "stdout",
     "output_type": "stream",
     "text": [
      "Accuracy score of 0.9555555555555556\n"
     ]
    }
   ],
   "source": [
    "# manual method\n",
    "correct_preds = 19 + 9 + 15\n",
    "total_preds = correct_preds + (1 + 1)\n",
    "print(f\"Accuracy score of {correct_preds / total_preds}\")"
   ]
  },
  {
   "cell_type": "code",
   "execution_count": 23,
   "metadata": {},
   "outputs": [
    {
     "name": "stdout",
     "output_type": "stream",
     "text": [
      "Accuracy score of 0.9555555555555556\n"
     ]
    }
   ],
   "source": [
    "# using sklearn.metrics method\n",
    "print(f\"Accuracy score of {accuracy_score(y_test, y_pred)}\")"
   ]
  },
  {
   "cell_type": "markdown",
   "metadata": {},
   "source": [
    "### Precision\n",
    "\n",
    "Of all the times your model predicted 1, how often was it correct?\n",
    "\n",
    "Precision = correct 1 predictions / correct 1 prediction + incorrect 1 prediction\n",
    "\n",
    "$$ Precision = \\frac{TP}{TP + FP} $$\n"
   ]
  },
  {
   "cell_type": "code",
   "execution_count": 24,
   "metadata": {},
   "outputs": [
    {
     "name": "stdout",
     "output_type": "stream",
     "text": [
      "The precision score for setosa is 1.0\n",
      "The precision score for versicolor is 0.9\n",
      "The precision score for virginica is 0.9375\n"
     ]
    }
   ],
   "source": [
    "# manual method\n",
    "precision = {\"setosa\": 19 / (19 + 0),\n",
    "             \"versicolor\": 9 / (9 + 1),\n",
    "             \"virginica\": 15 / (15 + 1)}\n",
    "\n",
    "for key, val in precision.items():\n",
    "    print(f\"The precision score for {key} is {val}\")"
   ]
  },
  {
   "cell_type": "code",
   "execution_count": 25,
   "metadata": {},
   "outputs": [
    {
     "name": "stdout",
     "output_type": "stream",
     "text": [
      "The precision score for setosa is 1.0\n",
      "The precision score for versicolor is 0.9\n",
      "The precision score for virginica is 0.9375\n"
     ]
    }
   ],
   "source": [
    "# using sklearn.metrics method\n",
    "# note: if the classifier was binary, we would leave 'average' set to 'binary'\n",
    "#       since this is a multi-class, we'll set the 'average' to None so we can get the precision score for each class\n",
    "for key, val in zip(precision.keys(), precision_score(y_test, y_pred, average=None)):\n",
    "    print(f\"The precision score for {key} is {val}\")"
   ]
  },
  {
   "cell_type": "markdown",
   "metadata": {},
   "source": [
    "### Sensitivity aka Recall aka True Positive Rate (TPR)\n",
    "\n",
    "Sensitivity measures what percentage of (actual) 1’s your model correctly predicted.\n",
    "\n",
    "recall = correct 1 prediction / (correct 1 predictions + incorrect 0 predictions)\n",
    "\n",
    "$$ recall = \\frac{TP}{TP + FN}$$"
   ]
  },
  {
   "cell_type": "code",
   "execution_count": null,
   "metadata": {},
   "outputs": [],
   "source": [
    "# manual method\n",
    "recall = {\"setosa\": 19 / (19 + 0),\n",
    "          \"versicolor\": 9 / (9 + 1),\n",
    "          \"virginica\": 15 / (15 + 1)}\n",
    "\n",
    "for key, val in recall.items():\n",
    "    print(f\"The recall score for {key} is {val}\")"
   ]
  },
  {
   "cell_type": "code",
   "execution_count": null,
   "metadata": {},
   "outputs": [],
   "source": [
    "# using sklearn.metrics method\n",
    "# note: if the classifier was binary, we would leave 'average' set to 'binary'\n",
    "#       since this is a multi-class, we'll set the 'average' to None so we can get the recall score for each class\n",
    "for key, val in zip(recall.keys(), recall_score(y_test, y_pred, average=None)):\n",
    "    print(f\"The recall score for {key} is {val}\")"
   ]
  },
  {
   "cell_type": "code",
   "execution_count": null,
   "metadata": {},
   "outputs": [],
   "source": []
  }
 ],
 "metadata": {
  "kernelspec": {
   "display_name": "Python (learn-env)",
   "language": "python",
   "name": "learn-env"
  },
  "language_info": {
   "codemirror_mode": {
    "name": "ipython",
    "version": 3
   },
   "file_extension": ".py",
   "mimetype": "text/x-python",
   "name": "python",
   "nbconvert_exporter": "python",
   "pygments_lexer": "ipython3",
   "version": "3.6.6"
  }
 },
 "nbformat": 4,
 "nbformat_minor": 2
}
